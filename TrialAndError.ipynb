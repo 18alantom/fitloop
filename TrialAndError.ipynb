{
 "cells": [
  {
   "cell_type": "markdown",
   "metadata": {},
   "source": [
    "# Testing Grounds - Fit Loop\n",
    "Creating a library that helps with the pytorch looping."
   ]
  },
  {
   "cell_type": "markdown",
   "metadata": {},
   "source": [
    "## Testing"
   ]
  },
  {
   "cell_type": "code",
   "execution_count": 1,
   "metadata": {
    "ExecuteTime": {
     "end_time": "2020-05-09T17:18:45.764806Z",
     "start_time": "2020-05-09T17:18:43.847361Z"
    }
   },
   "outputs": [],
   "source": [
    "import torch\n",
    "from torch import optim, nn\n",
    "from torch.utils.data import DataLoader\n",
    "from torchvision.models import resnet18\n",
    "from torchvision.datasets import FakeData\n",
    "from torchvision.transforms import ToTensor\n",
    "from fitloop import FitLoop\n",
    "\n",
    "device = torch.device('cpu')"
   ]
  },
  {
   "cell_type": "markdown",
   "metadata": {
    "heading_collapsed": true
   },
   "source": [
    "### Stage Functions"
   ]
  },
  {
   "cell_type": "markdown",
   "metadata": {
    "hidden": true
   },
   "source": [
    "#### Batch Steps"
   ]
  },
  {
   "cell_type": "code",
   "execution_count": 2,
   "metadata": {
    "ExecuteTime": {
     "end_time": "2020-05-09T17:15:38.970582Z",
     "start_time": "2020-05-09T17:15:38.962871Z"
    },
    "hidden": true
   },
   "outputs": [],
   "source": [
    "def common_step(state):\n",
    "#     print(f\"{state.phase}_step, bn: {state.batch_num} en: {state.epoch_num}, \",end=\"\")\n",
    "    X, y = state.batch\n",
    "    y_ = state.model(X)\n",
    "    loss = state.loss_function(y_,y)\n",
    "#     print(\"loss\",loss.item())\n",
    "    r_loss = loss.item() * state.batch_size\n",
    "    r_corr = (y_.argmax(dim=1) == y).sum().item()\n",
    "    return loss, r_loss, r_corr\n",
    "\n",
    "def train_step(state):\n",
    "    loss, r_loss, r_corr = common_step(state)\n",
    "    loss.backward()\n",
    "    state.optimizer.step()\n",
    "    return {'r_loss':r_loss,'r_corr':r_corr}\n",
    "\n",
    "def valid_step(state):\n",
    "    loss, r_loss, r_corr = common_step(state)\n",
    "    return {'r_loss':r_loss,'r_corr':r_corr}\n",
    "\n",
    "def test_step(state):\n",
    "    loss, r_loss, r_corr = common_step(state)\n",
    "    return {'r_loss':r_loss,'r_corr':r_corr}"
   ]
  },
  {
   "cell_type": "markdown",
   "metadata": {
    "heading_collapsed": true,
    "hidden": true
   },
   "source": [
    "#### Epoch Start Step"
   ]
  },
  {
   "cell_type": "code",
   "execution_count": 3,
   "metadata": {
    "ExecuteTime": {
     "end_time": "2020-05-09T17:15:40.868398Z",
     "start_time": "2020-05-09T17:15:40.863974Z"
    },
    "hidden": true
   },
   "outputs": [],
   "source": [
    "def common_epoch_start(state):\n",
    "#     print(f\"\\n{state.phase}_epoch_start, # {state.epoch_num}\")\n",
    "    return {'dummy':'dict'}\n",
    "    \n",
    "def train_epoch_start(state):\n",
    "    return common_epoch_start(state)\n",
    "\n",
    "def valid_epoch_start(state):\n",
    "    return common_epoch_start(state)\n",
    "\n",
    "def test_epoch_start(state):\n",
    "    return common_epoch_start(state)"
   ]
  },
  {
   "cell_type": "markdown",
   "metadata": {
    "heading_collapsed": true,
    "hidden": true
   },
   "source": [
    "#### Epoch End Steps"
   ]
  },
  {
   "cell_type": "code",
   "execution_count": 4,
   "metadata": {
    "ExecuteTime": {
     "end_time": "2020-05-09T17:15:45.934584Z",
     "start_time": "2020-05-09T17:15:45.928823Z"
    },
    "hidden": true
   },
   "outputs": [],
   "source": [
    "def common_epoch_end(state):\n",
    "#     print(f\"{state.phase}_epoch_end, # {state.epoch_num}\")\n",
    "    r_loss = state['r_loss']\n",
    "    r_corr = state['r_corr']\n",
    "    \n",
    "#     print('r_loss len',len(r_loss))\n",
    "#     print('r_corr len',len(r_corr))\n",
    "    \n",
    "    e_loss = r_loss.sum()/state.size\n",
    "    e_accu = r_corr.sum()/state.size\n",
    "    \n",
    "#     print('loss',e_loss)\n",
    "#     print('accu',e_accu)\n",
    "    \n",
    "    return {'loss':e_loss, 'accu':e_accu}\n",
    "    \n",
    "def train_epoch_end(state):\n",
    "    return common_epoch_end(state)\n",
    "\n",
    "def valid_epoch_end(state):\n",
    "    return common_epoch_end(state)\n",
    "\n",
    "def test_epoch_end(state):\n",
    "    return common_epoch_end(state)"
   ]
  },
  {
   "cell_type": "markdown",
   "metadata": {},
   "source": [
    "### FitLoop - Usage"
   ]
  },
  {
   "cell_type": "markdown",
   "metadata": {},
   "source": [
    "#### Setup"
   ]
  },
  {
   "cell_type": "code",
   "execution_count": 2,
   "metadata": {
    "ExecuteTime": {
     "end_time": "2020-05-09T17:18:49.046600Z",
     "start_time": "2020-05-09T17:18:48.879749Z"
    }
   },
   "outputs": [],
   "source": [
    "\"\"\"\n",
    "Basic setup with FakeData for testing.\n",
    "\"\"\"\n",
    "\n",
    "def get_dl(batch_size=4, sz=[100,20,30]):\n",
    "    sets = ['train','valid','test']\n",
    "    TR, VA, TE = sets\n",
    "    class_names = ['a','b','c','d']\n",
    "    num_classes = 4\n",
    "\n",
    "    sz = {s:z for s, z in zip(sets,sz)} # a multiple of batch size\n",
    "    ds = {s:FakeData(size=sz[s], transform=ToTensor(), num_classes=num_classes) for s in sets}\n",
    "    dl = {s:DataLoader(ds[s],batch_size=batch_size) for s in ds}\n",
    "    return dl\n",
    "\n",
    "TR, VA, TE = ['train','valid','test']\n",
    "\n",
    "num_classes = 4\n",
    "model = resnet18()\n",
    "in_features = model.fc.in_features\n",
    "model.fc = nn.Linear(in_features, num_classes)\n",
    "\n",
    "    \n",
    "dummy = nn.Sequential(\n",
    "    nn.Conv2d(3,1,3,10),\n",
    "    nn.Flatten(),\n",
    "    nn.Linear(529,4)\n",
    ")\n",
    "\n",
    "model = dummy\n",
    "\n",
    "loss_function = nn.CrossEntropyLoss()\n",
    "optimizer = optim.Adam(model.parameters())\n",
    "\n",
    "# ----------------------------------------------\n",
    "\n",
    "def configure_optimizer(self):\n",
    "    parameters = self.model.parameters()\n",
    "    self.optimizer.param_groups.clear()\n",
    "    self.optimizer.add_param_group({'params': parameters})\n",
    "    \n",
    "dl = get_dl(batch_size=5,sz=[52,12,23])\n",
    "fl_dict = {\n",
    "    \"model\": model,\n",
    "    \"optimizer\": optimizer,\n",
    "    \"loss_function\": loss_function,\n",
    "    \"train_dl\":dl[TR],\n",
    "    \"valid_dl\":dl[VA],\n",
    "    \"test_dl\":dl[TE],\n",
    "#     \"train_step\":train_step,\n",
    "#     \"valid_step\":valid_step,\n",
    "#     \"test_step\":test_step,\n",
    "#     \"train_epoch_start\":train_epoch_start,\n",
    "#     \"valid_epoch_start\":valid_epoch_start,\n",
    "#     \"test_epoch_start\":test_epoch_start,\n",
    "#     \"train_epoch_end\":train_epoch_end,\n",
    "#     \"valid_epoch_end\":valid_epoch_end,\n",
    "#     \"test_epoch_end\":test_epoch_end,\n",
    "#     \"criteria\": \"accu\"\n",
    "    \"configure_optimizer\":configure_optimizer,\n",
    "}\n",
    "\n",
    "trainer = FitLoop(**fl_dict)"
   ]
  },
  {
   "cell_type": "code",
   "execution_count": 13,
   "metadata": {
    "ExecuteTime": {
     "end_time": "2020-05-09T17:19:16.127773Z",
     "start_time": "2020-05-09T17:19:15.984706Z"
    }
   },
   "outputs": [
    {
     "data": {
      "image/png": "[encoded data removed]",
      "text/plain": [
       "<Figure size 432x288 with 1 Axes>"
      ]
     },
     "metadata": {
      "needs_background": "light"
     },
     "output_type": "display_data"
    }
   ],
   "source": [
    "trainer.plot('loss')"
   ]
  },
  {
   "cell_type": "code",
   "execution_count": 5,
   "metadata": {
    "ExecuteTime": {
     "end_time": "2020-05-09T17:18:59.542065Z",
     "start_time": "2020-05-09T17:18:57.486417Z"
    }
   },
   "outputs": [
    {
     "data": {
      "application/vnd.jupyter.widget-view+json": {
       "model_id": "902d7f54339441c1a7d5d312fa2178e9",
       "version_major": 2,
       "version_minor": 0
      },
      "text/plain": [
       "HBox(children=(FloatProgress(value=0.0, description='EPOCH :', layout=Layout(flex='2'), max=6.0, style=Progres…"
      ]
     },
     "metadata": {},
     "output_type": "display_data"
    },
    {
     "data": {
      "application/vnd.jupyter.widget-view+json": {
       "model_id": "",
       "version_major": 2,
       "version_minor": 0
      },
      "text/plain": [
       "HBox(children=(FloatProgress(value=0.0, layout=Layout(flex='2'), max=14.0), HTML(value='')), layout=Layout(dis…"
      ]
     },
     "metadata": {},
     "output_type": "display_data"
    },
    {
     "name": "stdout",
     "output_type": "stream",
     "text": [
      "[1/6] - train :: accuracy: 0.6731 | loss: 1.1612 \n",
      "        valid :: accuracy: 0.8333 | loss: 1.0944 \n",
      "        epoch time: 00 s 393 ms\n"
     ]
    },
    {
     "data": {
      "application/vnd.jupyter.widget-view+json": {
       "model_id": "",
       "version_major": 2,
       "version_minor": 0
      },
      "text/plain": [
       "HBox(children=(FloatProgress(value=0.0, layout=Layout(flex='2'), max=14.0), HTML(value='')), layout=Layout(dis…"
      ]
     },
     "metadata": {},
     "output_type": "display_data"
    },
    {
     "name": "stdout",
     "output_type": "stream",
     "text": [
      "[2/6] - train :: accuracy: 0.7308 | loss: 1.1227 \n",
      "        valid :: accuracy: 0.8333 | loss: 1.0519 \n",
      "        epoch time: 00 s 326 ms\n"
     ]
    },
    {
     "data": {
      "application/vnd.jupyter.widget-view+json": {
       "model_id": "",
       "version_major": 2,
       "version_minor": 0
      },
      "text/plain": [
       "HBox(children=(FloatProgress(value=0.0, layout=Layout(flex='2'), max=14.0), HTML(value='')), layout=Layout(dis…"
      ]
     },
     "metadata": {},
     "output_type": "display_data"
    },
    {
     "name": "stdout",
     "output_type": "stream",
     "text": [
      "[3/6] - train :: accuracy: 0.7692 | loss: 1.0816 \n",
      "        valid :: accuracy: 0.8333 | loss: 1.0075 \n",
      "        epoch time: 00 s 305 ms\n"
     ]
    },
    {
     "data": {
      "application/vnd.jupyter.widget-view+json": {
       "model_id": "",
       "version_major": 2,
       "version_minor": 0
      },
      "text/plain": [
       "HBox(children=(FloatProgress(value=0.0, layout=Layout(flex='2'), max=14.0), HTML(value='')), layout=Layout(dis…"
      ]
     },
     "metadata": {},
     "output_type": "display_data"
    },
    {
     "name": "stdout",
     "output_type": "stream",
     "text": [
      "[4/6] - train :: accuracy: 0.8269 | loss: 1.0377 \n",
      "        valid :: accuracy: 0.8333 | loss: 0.9599 \n",
      "        epoch time: 00 s 311 ms\n"
     ]
    },
    {
     "data": {
      "application/vnd.jupyter.widget-view+json": {
       "model_id": "",
       "version_major": 2,
       "version_minor": 0
      },
      "text/plain": [
       "HBox(children=(FloatProgress(value=0.0, layout=Layout(flex='2'), max=14.0), HTML(value='')), layout=Layout(dis…"
      ]
     },
     "metadata": {},
     "output_type": "display_data"
    },
    {
     "name": "stdout",
     "output_type": "stream",
     "text": [
      "[5/6] - train :: accuracy: 0.8846 | loss: 0.9909 \n",
      "        valid :: accuracy: 0.8333 | loss: 0.9092 \n",
      "        epoch time: 00 s 326 ms\n"
     ]
    },
    {
     "data": {
      "application/vnd.jupyter.widget-view+json": {
       "model_id": "",
       "version_major": 2,
       "version_minor": 0
      },
      "text/plain": [
       "HBox(children=(FloatProgress(value=0.0, layout=Layout(flex='2'), max=14.0), HTML(value='')), layout=Layout(dis…"
      ]
     },
     "metadata": {},
     "output_type": "display_data"
    },
    {
     "name": "stdout",
     "output_type": "stream",
     "text": [
      "[6/6] - train :: accuracy: 0.9231 | loss: 0.9413 \n",
      "        valid :: accuracy: 0.8333 | loss: 0.8560 \n",
      "        epoch time: 00 s 336 ms\n",
      "\n",
      "-----\n",
      "total time: 02 s 050 ms\n",
      "best score: 0.8333\n"
     ]
    }
   ],
   "source": [
    "trainer.fit(epochs=6)"
   ]
  },
  {
   "cell_type": "code",
   "execution_count": 7,
   "metadata": {
    "ExecuteTime": {
     "end_time": "2020-05-09T17:19:03.420911Z",
     "start_time": "2020-05-09T17:19:03.415230Z"
    }
   },
   "outputs": [
    {
     "data": {
      "text/plain": [
       "['train', 'valid']"
      ]
     },
     "execution_count": 7,
     "metadata": {},
     "output_type": "execute_result"
    }
   ],
   "source": [
    "trainer.M.phases"
   ]
  },
  {
   "cell_type": "markdown",
   "metadata": {},
   "source": [
    "#### Execution"
   ]
  },
  {
   "cell_type": "code",
   "execution_count": 8,
   "metadata": {
    "ExecuteTime": {
     "end_time": "2020-05-09T17:19:05.493757Z",
     "start_time": "2020-05-09T17:19:04.782149Z"
    }
   },
   "outputs": [
    {
     "data": {
      "application/vnd.jupyter.widget-view+json": {
       "model_id": "3d631b33620c4ae6ba5dada0be6dbe87",
       "version_major": 2,
       "version_minor": 0
      },
      "text/plain": [
       "HBox(children=(FloatProgress(value=0.0, description='EPOCH :', layout=Layout(flex='2'), max=2.0, style=Progres…"
      ]
     },
     "metadata": {},
     "output_type": "display_data"
    },
    {
     "data": {
      "application/vnd.jupyter.widget-view+json": {
       "model_id": "",
       "version_major": 2,
       "version_minor": 0
      },
      "text/plain": [
       "HBox(children=(FloatProgress(value=0.0, layout=Layout(flex='2'), max=14.0), HTML(value='')), layout=Layout(dis…"
      ]
     },
     "metadata": {},
     "output_type": "display_data"
    },
    {
     "name": "stdout",
     "output_type": "stream",
     "text": [
      "[1/2] - train :: accuracy: 0.6923 | loss: 1.1590 \n",
      "        valid :: accuracy: 0.8333 | loss: 1.0877 \n",
      "        epoch time: 00 s 359 ms\n"
     ]
    },
    {
     "data": {
      "application/vnd.jupyter.widget-view+json": {
       "model_id": "",
       "version_major": 2,
       "version_minor": 0
      },
      "text/plain": [
       "HBox(children=(FloatProgress(value=0.0, layout=Layout(flex='2'), max=14.0), HTML(value='')), layout=Layout(dis…"
      ]
     },
     "metadata": {},
     "output_type": "display_data"
    },
    {
     "name": "stdout",
     "output_type": "stream",
     "text": [
      "[2/2] - train :: accuracy: 0.7308 | loss: 1.1151 \n",
      "        valid :: accuracy: 0.8333 | loss: 1.0407 \n",
      "        epoch time: 00 s 299 ms\n",
      "\n",
      "-----\n",
      "total time: 00 s 704 ms\n",
      "best score: 0.8333\n"
     ]
    }
   ],
   "source": [
    "# trainer.fit(epochs=3, train_dl=dl[TR], valid_dl=dl[VA])\n",
    "trainer.fit(epochs=2)"
   ]
  },
  {
   "cell_type": "code",
   "execution_count": 14,
   "metadata": {
    "ExecuteTime": {
     "end_time": "2020-05-09T17:19:20.860982Z",
     "start_time": "2020-05-09T17:19:20.706302Z"
    }
   },
   "outputs": [
    {
     "data": {
      "application/vnd.jupyter.widget-view+json": {
       "model_id": "b9874cf11a51461983762f313372a55a",
       "version_major": 2,
       "version_minor": 0
      },
      "text/plain": [
       "HBox(children=(FloatProgress(value=0.0, layout=Layout(flex='2'), max=5.0), HTML(value='')), layout=Layout(disp…"
      ]
     },
     "metadata": {},
     "output_type": "display_data"
    },
    {
     "name": "stdout",
     "output_type": "stream",
     "text": [
      "test :: accuracy: 0.7826 | loss: 1.1562 \n",
      "\n",
      "-----\n",
      "total time: 00 s 149 ms\n"
     ]
    }
   ],
   "source": [
    "trainer.test()"
   ]
  },
  {
   "cell_type": "code",
   "execution_count": 15,
   "metadata": {
    "ExecuteTime": {
     "end_time": "2020-05-09T17:19:23.667075Z",
     "start_time": "2020-05-09T17:19:23.124610Z"
    }
   },
   "outputs": [
    {
     "name": "stdout",
     "output_type": "stream",
     "text": [
      "RUNNING SANITY CHECK: TRAIN LOOP - 1 EPOCH(s), None STEP(s)\n"
     ]
    },
    {
     "data": {
      "application/vnd.jupyter.widget-view+json": {
       "model_id": "afe0603fdce64c58a734353e9a73562e",
       "version_major": 2,
       "version_minor": 0
      },
      "text/plain": [
       "HBox(children=(FloatProgress(value=0.0, description='EPOCH :', layout=Layout(flex='2'), max=1.0, style=Progres…"
      ]
     },
     "metadata": {},
     "output_type": "display_data"
    },
    {
     "data": {
      "application/vnd.jupyter.widget-view+json": {
       "model_id": "",
       "version_major": 2,
       "version_minor": 0
      },
      "text/plain": [
       "HBox(children=(FloatProgress(value=0.0, layout=Layout(flex='2'), max=14.0), HTML(value='')), layout=Layout(dis…"
      ]
     },
     "metadata": {},
     "output_type": "display_data"
    },
    {
     "name": "stdout",
     "output_type": "stream",
     "text": [
      "[1/1] - train :: accuracy: 0.6731 | loss: 1.1602 \n",
      "        valid :: accuracy: 0.8333 | loss: 1.0890 \n",
      "        epoch time: 00 s 350 ms\n",
      "\n",
      "-----\n",
      "total time: 00 s 385 ms\n",
      "best score: 0.8333\n",
      "\n",
      "RUNNING SANITY CHECK: TEST LOOP - None STEP(s)\n"
     ]
    },
    {
     "data": {
      "application/vnd.jupyter.widget-view+json": {
       "model_id": "f380762944324ab89b56e53d457d7d2c",
       "version_major": 2,
       "version_minor": 0
      },
      "text/plain": [
       "HBox(children=(FloatProgress(value=0.0, layout=Layout(flex='2'), max=5.0), HTML(value='')), layout=Layout(disp…"
      ]
     },
     "metadata": {},
     "output_type": "display_data"
    },
    {
     "name": "stdout",
     "output_type": "stream",
     "text": [
      "test :: accuracy: 0.7826 | loss: 1.1562 \n",
      "\n",
      "-----\n",
      "total time: 00 s 150 ms\n"
     ]
    }
   ],
   "source": [
    "# trainer.run_sanity_check(use_test_dl=True,steps=None, train_dl=dl[TR], valid_dl=dl[VA], test_dl=dl[TE])\n",
    "trainer.run_sanity_check(use_test_dl=True,steps=None)"
   ]
  },
  {
   "cell_type": "code",
   "execution_count": 16,
   "metadata": {
    "ExecuteTime": {
     "end_time": "2020-05-09T17:19:25.471495Z",
     "start_time": "2020-05-09T17:19:24.883161Z"
    }
   },
   "outputs": [
    {
     "name": "stdout",
     "output_type": "stream",
     "text": [
      "RUNNING PROFILER: TRAIN LOOP 1 EPOCH(s)\n",
      "  train dl :: batches:   11 batch_size:    5 last_batch:    2 dataset_size:     52\n",
      "  valid dl :: batches:    3 batch_size:    5 last_batch:    2 dataset_size:     12\n",
      "\n"
     ]
    },
    {
     "data": {
      "application/vnd.jupyter.widget-view+json": {
       "model_id": "a2e2c936dfd4459db629a74eaf67d506",
       "version_major": 2,
       "version_minor": 0
      },
      "text/plain": [
       "HBox(children=(FloatProgress(value=0.0, description='EPOCH :', layout=Layout(flex='2'), max=1.0, style=Progres…"
      ]
     },
     "metadata": {},
     "output_type": "display_data"
    },
    {
     "data": {
      "application/vnd.jupyter.widget-view+json": {
       "model_id": "",
       "version_major": 2,
       "version_minor": 0
      },
      "text/plain": [
       "HBox(children=(FloatProgress(value=0.0, layout=Layout(flex='2'), max=14.0), HTML(value='')), layout=Layout(dis…"
      ]
     },
     "metadata": {},
     "output_type": "display_data"
    },
    {
     "name": "stdout",
     "output_type": "stream",
     "text": [
      "\n",
      "RUNNING PROFILER: TEST LOOP \n",
      "  test  dl :: batches:    5 batch_size:    5 last_batch:    3 dataset_size:     23\n",
      "\n"
     ]
    },
    {
     "data": {
      "application/vnd.jupyter.widget-view+json": {
       "model_id": "272421fb87e84151b1f256cb9eb36ba9",
       "version_major": 2,
       "version_minor": 0
      },
      "text/plain": [
       "HBox(children=(FloatProgress(value=0.0, layout=Layout(flex='2'), max=5.0), HTML(value='')), layout=Layout(disp…"
      ]
     },
     "metadata": {},
     "output_type": "display_data"
    },
    {
     "name": "stdout",
     "output_type": "stream",
     "text": [
      "\n",
      "AVERAGE TIMES\n",
      "1. initialize:       00 s 001 ms 788 us\n",
      "2. train\n",
      "  1. epoch_start:    00 s 338 ms 999 us\n",
      "  2. step:           00 s 001 ms 758 us\n",
      "  3. batch_inner:    00 s 002 ms 048 us\n",
      "  4. batch_loop:     00 s 230 ms 417 us\n",
      "  5. epoch_end:      00 s 000 ms 134 us\n",
      "  6. phase_inner:    00 s 230 ms 646 us\n",
      "3. valid\n",
      "  1. epoch_start:    00 s 632 ms 000 us\n",
      "  2. step:           00 s 000 ms 450 us\n",
      "  3. batch_inner:    00 s 000 ms 535 us\n",
      "  4. batch_loop:     00 s 038 ms 240 us\n",
      "  5. epoch_end:      00 s 842 ms 099 us\n",
      "  6. phase_inner:    00 s 038 ms 351 us\n",
      "4. phase loop:       00 s 300 ms 097 us\n",
      "5. epoch\n",
      "  1. inner:          00 s 301 ms 738 us\n",
      "  2. loop:           00 s 344 ms 071 us\n",
      "  3. inner_t:        00 s 210 ms 936 us\n",
      "  4. loop_t:         00 s 211 ms 320 us\n",
      "6. restore model:    00 s 000 ms 536 us\n",
      "7. total:            00 s 346 ms 444 us\n",
      "8. initialize_t:     00 s 000 ms 874 us\n",
      "9. test\n",
      "  1. epoch_start_t:  00 s 057 ms 000 us\n",
      "  2. step_t:         00 s 000 ms 854 us\n",
      "  3. batch_inner_t:  00 s 002 ms 051 us\n",
      "  4. batch_loop_t:   00 s 161 ms 997 us\n",
      "  5. epoch_end_t:    00 s 233 ms 899 us\n",
      "  6. phase_inner_t:  00 s 162 ms 164 us\n",
      "10. phase loop_t:    00 s 196 ms 061 us\n",
      "11. restore model_t: 00 s 002 ms 123 us\n",
      "12. total_t:         00 s 214 ms 991 us\n",
      "\n",
      "total time: 00 s 562 ms 416 us\n"
     ]
    }
   ],
   "source": [
    "# _ = trainer.run_profiler(epochs=2, steps=None, train_dl=dl[TR], valid_dl=dl[VA], test_dl=dl[TE])\n",
    "_ = trainer.run_profiler()"
   ]
  },
  {
   "cell_type": "markdown",
   "metadata": {},
   "source": [
    "## TODO"
   ]
  },
  {
   "cell_type": "markdown",
   "metadata": {
    "heading_collapsed": true
   },
   "source": [
    "### FitLoop"
   ]
  },
  {
   "cell_type": "markdown",
   "metadata": {
    "hidden": true
   },
   "source": [
    "- Bare minimum to structure and push to Pypi:\n",
    "    - Test on console.\n",
    "    - Metrics plot\n",
    "    - Onchanging model update parameters appropriately\n",
    "    - ✅Metrics Viz\n",
    "    - ✅FitLoopDefaults (really simple ones)\n",
    "    - ✅All stage functions except for `train_step` should be optional that's the only one that is required for training the model, rest all are for metric keeping.\n",
    "    - ✅Make it easy to train, validate, test with some other DataLoader that is not attached to the object.\n",
    "    - ✅Fix No Continue\n",
    "    - ✅Metrics\n",
    "- `FitLoop.save(path:str)` to save the model and training state somehow even the FitLoop state.\n",
    "- `FitLoop.load(path:str)` to load the FitLoop state from given path.\n",
    "- ✅`FitLoop.profiler()` mode to capture all stage timings and maybe even CPU, GPU, RAM usage to check for bottlenecks and usage spikes, to be used with timed_test.\n",
    "- ✅if `FitLoop.fit(define_all:bool=False)` the zero_grad and the context manager are not auto set.\n",
    "- ✅should keep track of epochs that have been completed\n",
    "- ✅epoch_number can be reset \n",
    "- ✅`FitLoop.metrics.set_name.loop_stage['metric_name']` to access the metric\n",
    "- ✅`FitLoop.store_pretrained:bool` arg to store the pretrained weights before training\n",
    "    if path then store at given path else store in memory.\n",
    "- ✅`FitLoop.reset(reset_model:bool)` to clear metrics, epoch_num and to reset the model, to pretrained state\n",
    "    will load the weight from passed path else from memory.\n",
    "- ✅`FitLoop.fit(continue_loop:int=0)` ask after `int` whether to continue training or to end.\n",
    "- ✅`FitLoop.fit(profiler:bool=False)` mode to capture all stage timings and maybe even CPU, GPU, RAM usage to check for bottlenecks and usage spikes, to be used with timed_test.\n",
    "- ✅Functionality to view the metrics.\n",
    "- ✅Model score should be a loop instance so that the best model may not be erased.\n",
    "- ✅Time keeping/ metric keeping:\n",
    "    - General\n",
    "        - ✅Metrics returned in the batch step\n",
    "        - ✅Metrics returned in the end step\n",
    "        - ✅Progress bar for epoch\n",
    "        - ✅Progress bar for batch that disappears after complete\n",
    "        - ✅Epoch timing (for both phases when training)\n",
    "        - ✅Total timing \n",
    "        \n",
    "    - Profiler Mode:\n",
    "        - ✅Individual Stage Timings\n",
    "        \n",
    "- ✅Check with uneven batchsizes.\n",
    " \n",
    "#### Later Incremental Addons\n",
    "- Profiler Mode:\n",
    "    - Use an actual profiler ie: `cProfile`\n",
    "    - Individual Stage CPU Usage\n",
    "    - Individual Stage GPU Usage\n",
    "    - Individual Stage RAM Usage\n",
    "- Use better logging (maybe) `warnings` and `logging`"
   ]
  },
  {
   "cell_type": "markdown",
   "metadata": {
    "heading_collapsed": true
   },
   "source": [
    "### ✅FitLoopDefaults"
   ]
  },
  {
   "cell_type": "markdown",
   "metadata": {
    "hidden": true
   },
   "source": [
    "- ✅Basic functions for\n",
    "    - ✅train_step\n",
    "    - ✅valid_step\n",
    "    - ✅test_step\n",
    "- ✅Basic funtions for \n",
    "    - ✅train_epoch_end\n",
    "    - ✅valid_epoch_end\n",
    "    - ✅test_epoch_end\n",
    "\n",
    "*FitLoopDefaults shouldn't be a class, it should be a module.*"
   ]
  },
  {
   "cell_type": "markdown",
   "metadata": {
    "heading_collapsed": true
   },
   "source": [
    "### ✅Metrics/MetricsAggregator"
   ]
  },
  {
   "cell_type": "markdown",
   "metadata": {
    "hidden": true
   },
   "source": [
    "```python\n",
    "# Value access\n",
    "Fitloop.metrics.train['loss']                 # ✅returns all losses from epoch end\n",
    "Fitloop.metrics.train.epoch_end['loss']       # ✅returns all losses from epoch end\n",
    "Fitloop.metrics.train.epoch_start['loss']     # ✅returns all losses from epoch start\n",
    "Fitloop.metrics.train.batch_step['loss']      # ✅returns all losses from batch step\n",
    " \n",
    "Fitloop.metrics.train['loss'][0]              # ✅returns losses for run 0 from epoch end\n",
    "Fitloop.metrics.valid.batch_step['accu'][3]   # ✅returns all validation accuracies for batch step from run 3\n",
    " \n",
    "# Value visualization \n",
    "Fitloop.metrics.plot()                        # ✅plots validation criteria against training criteria (eg accuracy)\n",
    "                                              # ✅if criteria not available, then first key from rdict.\n",
    "Fitloop.metrics.train.plot()                  # ✅if loss then loss else, plots first value from rdict\n",
    "Fitloop.metrics.train.plot('loss')            # ✅plots loss \n",
    "```\n",
    "- ✅metrics can be cleared"
   ]
  },
  {
   "cell_type": "markdown",
   "metadata": {
    "heading_collapsed": true
   },
   "source": [
    "### ✅LoopState "
   ]
  },
  {
   "cell_type": "markdown",
   "metadata": {
    "hidden": true
   },
   "source": [
    "- ✅should cast the batch to device before passing it using `state.batch()`\n",
    "- ✅should get the batch num `state.batch_num` and epoch num `state.epoch_num`\n",
    "- ✅the model, optimizer, loss_function, lr_scheduler should be available\n",
    "    `state.model`, `state.optimizer`, `state.loss_function`, `state.lr_scheduler`\n",
    "- ✅should return the batch metrics as float tensors using square bracket indexing\n",
    "    `state['loss']` \n",
    "    - every step function hook receives the LoopState object.\n",
    "- ✅The loop state object should have a copy of all the values returned from the function hook\n",
    "- ✅example the below returned dict values should be avialable in the LoopState object\n",
    "\n",
    "```python\n",
    "def train_step(state):\n",
    "    X,y = state() # should device cast automatically\n",
    "    y_ = state.model(X)\n",
    "    loss = state.loss_function(y_, y)\n",
    "    \n",
    "    state.optimizer.zero_grad()\n",
    "    loss.backward()\n",
    "    state.optimizer.step()\n",
    "    state.lr_scheduler.step() \n",
    "    \n",
    "    loss = loss.item()\n",
    "    batch_loss = loss * y.size()\n",
    "    batch_corr = (y_.argmax(dim=0) == y).sum().float().item()\n",
    "    \n",
    "    return {'loss':loss,'batch_loss':batch_loss:'batch_corr'}\n",
    "```\n",
    "- ✅The LoopState object should be cleared of the above values at the start \n",
    "  of the next epoch.\n",
    "- ✅The returned values should be available through the FitLoop object\n",
    "  Eg: `FitLoop.metrics.train.batch['loss']`\n",
    "- ✅The (above statement) returned value should be optionally available by setting the flag \n",
    "  `track_batch_metrics`\n",
    "\n",
    "```python\n",
    "def train_epoch_end(state):\n",
    "    loss = state['loss']\n",
    "    batch_loss = state['batch_loss']\n",
    "    batch_corr = state['batch_corr']\n",
    "    \n",
    "    size = state.size\n",
    "    \n",
    "    epoch_loss = batch_loss.sum().item()/size\n",
    "    epoch_accu = batch_corr.sum().item()/size\n",
    "    \n",
    "    return {\"loss\":epoch_loss,\"accu\":epoch_accu}\n",
    "```\n",
    "\n",
    "- ✅The returned values should be available through the FitLoop object\n",
    "  Eg: `FitLoop.metrics.train.epoch['loss']`\n",
    "- ✅For each phase a different LoopState obect is maintained.\n",
    "\n"
   ]
  }
 ],
 "metadata": {
  "kernelspec": {
   "display_name": "Python 3",
   "language": "python",
   "name": "python3"
  },
  "language_info": {
   "codemirror_mode": {
    "name": "ipython",
    "version": 3
   },
   "file_extension": ".py",
   "mimetype": "text/x-python",
   "name": "python",
   "nbconvert_exporter": "python",
   "pygments_lexer": "ipython3",
   "version": "3.7.6"
  }
 },
 "nbformat": 4,
 "nbformat_minor": 4
}
